{
 "cells": [
  {
   "cell_type": "code",
   "execution_count": 10,
   "metadata": {},
   "outputs": [],
   "source": [
    "import pandas as pd\n",
    "import numpy as np \n",
    "import json"
   ]
  },
  {
   "cell_type": "code",
   "execution_count": 2,
   "metadata": {},
   "outputs": [],
   "source": [
    "nodes = pd.read_csv(\"nodes.csv\",names=['nodes'])"
   ]
  },
  {
   "cell_type": "code",
   "execution_count": 3,
   "metadata": {},
   "outputs": [
    {
     "data": {
      "text/plain": [
       "10312"
      ]
     },
     "execution_count": 3,
     "metadata": {},
     "output_type": "execute_result"
    }
   ],
   "source": [
    "num = nodes.shape[0]\n",
    "num"
   ]
  },
  {
   "cell_type": "code",
   "execution_count": 4,
   "metadata": {},
   "outputs": [],
   "source": [
    "def get_bin_tree_codes(n:int):\n",
    "    tree_codes = dict()\n",
    "    height = int(np.ceil(np.log2(n)))\n",
    "    for i in range(n):\n",
    "        bin_tree_code_i = format(i, f\"0{height}b\")\n",
    "        tree_codes[i] = bin_tree_code_i\n",
    "    return tree_codes\n",
    "bin_tree_nodes = get_bin_tree_codes(num)\n",
    "    "
   ]
  },
  {
   "cell_type": "code",
   "execution_count": 5,
   "metadata": {},
   "outputs": [
    {
     "data": {
      "text/plain": [
       "'10100001000111'"
      ]
     },
     "execution_count": 5,
     "metadata": {},
     "output_type": "execute_result"
    }
   ],
   "source": [
    "int(bin_tree_nodes[3],2)\n",
    "bin_tree_nodes[num-1]"
   ]
  },
  {
   "cell_type": "code",
   "execution_count": 8,
   "metadata": {},
   "outputs": [],
   "source": [
    "bin_tree_nodes = {key:[int(v) for v in val] for key,val in bin_tree_nodes.items()}"
   ]
  },
  {
   "cell_type": "code",
   "execution_count": 11,
   "metadata": {},
   "outputs": [],
   "source": [
    "with open(\"bin_tree_nodes.json\",\"w\") as f:\n",
    "    json.dump(bin_tree_nodes,f)"
   ]
  },
  {
   "cell_type": "code",
   "execution_count": 25,
   "metadata": {},
   "outputs": [],
   "source": [
    "def get_path_nodes(tree_codes:dict,):\n",
    "    path_nodes_all = dict()\n",
    "    for key,val in tree_codes.items():\n",
    "        path_nodes = [0]\n",
    "        c = 0\n",
    "        for i in range(len(val)-1):\n",
    "            char = val[i]\n",
    "            if char == \"0\":\n",
    "                c = c*2 + 1\n",
    "            else:\n",
    "                c = c*2 + 2\n",
    "            path_nodes.append(c)\n",
    "        assert len(path_nodes) == len(val)\n",
    "        path_nodes_all[key] = path_nodes[:-1]\n",
    "    return path_nodes_all\n",
    "path_nodes_all = get_path_nodes(bin_tree_nodes)"
   ]
  },
  {
   "cell_type": "code",
   "execution_count": 29,
   "metadata": {},
   "outputs": [],
   "source": [
    "with open(\"path_nodes_indices.json\",\"w\") as  f:\n",
    "    json.dump(path_nodes_all,f)"
   ]
  },
  {
   "cell_type": "code",
   "execution_count": null,
   "metadata": {},
   "outputs": [],
   "source": []
  }
 ],
 "metadata": {
  "kernelspec": {
   "display_name": "base",
   "language": "python",
   "name": "python3"
  },
  "language_info": {
   "codemirror_mode": {
    "name": "ipython",
    "version": 3
   },
   "file_extension": ".py",
   "mimetype": "text/x-python",
   "name": "python",
   "nbconvert_exporter": "python",
   "pygments_lexer": "ipython3",
   "version": "3.12.3"
  }
 },
 "nbformat": 4,
 "nbformat_minor": 2
}
